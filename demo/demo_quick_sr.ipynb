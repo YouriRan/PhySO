{
 "cells": [
  {
   "attachments": {},
   "cell_type": "markdown",
   "id": "5968aa00-8a07-4781-9e11-cc0f58c37a67",
   "metadata": {},
   "source": [
    "# $\\Phi$-SO demo (quick SR)"
   ]
  },
  {
   "cell_type": "code",
   "execution_count": 5,
   "id": "ebd1ce38-335c-4705-bae7-1819a1806d70",
   "metadata": {},
   "outputs": [],
   "source": [
    "# External packages\n",
    "import numpy as np\n",
    "import matplotlib.pyplot as plt\n",
    "import os\n",
    "# Internal code import\n",
    "import physo"
   ]
  },
  {
   "attachments": {},
   "cell_type": "markdown",
   "id": "ca2c0b89-a4b5-4c58-b94d-30dae45e7f2b",
   "metadata": {},
   "source": [
    "### Dataset"
   ]
  },
  {
   "cell_type": "code",
   "execution_count": 7,
   "id": "7ff27746",
   "metadata": {},
   "outputs": [
    {
     "data": {
      "text/plain": [
       "'/Users/youriran/software/PhySO/physo'"
      ]
     },
     "execution_count": 7,
     "metadata": {},
     "output_type": "execute_result"
    }
   ],
   "source": [
    "physo.PhySO_dir"
   ]
  },
  {
   "cell_type": "code",
   "execution_count": 2,
   "id": "ef3fe04a-7ded-45b4-b9bb-bda01f528261",
   "metadata": {
    "tags": []
   },
   "outputs": [],
   "source": [
    "# Dataset\n",
    "z = np.random.uniform(-10, 10, 50)\n",
    "v = np.random.uniform(-10, 10, 50)\n",
    "X = np.stack((z, v), axis=0)\n",
    "y = 1.234*9.807*z + 1.234*v**2"
   ]
  },
  {
   "attachments": {},
   "cell_type": "markdown",
   "id": "c069cf45-b69e-4f00-a190-8adac899f135",
   "metadata": {},
   "source": [
    "Where $X=(z,v)$, $z$ being a length of dimension $L^{1}, T^{0}, M^{0}$, v a velocity of dimension $L^{1}, T^{-1}, M^{0}$, $y=E$ if an energy of dimension $L^{2}, T^{-2}, M^{1}$.\n",
    "\n",
    "It be noted that free constants search starts around 1. by default. Therefore when using default hyperparameters, normalizing the data around an order of magnitude of 1 is strongly recommended."
   ]
  },
  {
   "attachments": {},
   "cell_type": "markdown",
   "id": "965cecdd-601a-4e54-a03f-d89f945cf976",
   "metadata": {},
   "source": [
    "Dataset plot"
   ]
  },
  {
   "cell_type": "code",
   "execution_count": 3,
   "id": "1969e736-4b9a-41ef-be4f-176802df5da6",
   "metadata": {
    "tags": []
   },
   "outputs": [
    {
     "data": {
      "image/png": "[encoded data removed]",
      "text/plain": [
       "<Figure size 1000x500 with 2 Axes>"
      ]
     },
     "metadata": {},
     "output_type": "display_data"
    }
   ],
   "source": [
    "n_dim = X.shape[0]\n",
    "fig, ax = plt.subplots(n_dim, 1, figsize=(10,5))\n",
    "for i in range (n_dim):\n",
    "    curr_ax = ax if n_dim==1 else ax[i]\n",
    "    curr_ax.plot(X[i], y, 'k.',)\n",
    "    curr_ax.set_xlabel(\"X[%i]\"%(i))\n",
    "    curr_ax.set_ylabel(\"y\")\n",
    "plt.show()"
   ]
  },
  {
   "attachments": {},
   "cell_type": "markdown",
   "id": "df074fd9-af20-4800-a4f1-708883bbc392",
   "metadata": {
    "tags": []
   },
   "source": [
    "### Running SR task"
   ]
  },
  {
   "attachments": {},
   "cell_type": "markdown",
   "id": "697af72d-e235-45ff-9763-cc21d8a73e31",
   "metadata": {},
   "source": [
    "#### Available configurations"
   ]
  },
  {
   "attachments": {},
   "cell_type": "markdown",
   "id": "475d60a0-8439-4dbc-9925-750bac0a4a57",
   "metadata": {},
   "source": [
    "It should be noted that SR capabilities of `physo` are heavily dependent on hyperparameters, it is therefore recommended to tune hyperparameters to your own specific problem for doing science.\n",
    "Summary of available currently configurations:\n",
    "\n",
    "|  Config |                           Notes                           |\n",
    "|:-------:|:---------------------------------------------------------:|\n",
    "| config0 | Light config for demo purposes.                           |\n",
    "| config1 | Tuned on a few physical cases.                            |\n",
    "| config2 | [work in progress] Good starting point for doing science. |\n",
    "\n",
    "By default, `config0` is used, however it is recommended to use the latest configuration currently available (`config1`) as a starting point for doing science.\n"
   ]
  },
  {
   "attachments": {},
   "cell_type": "markdown",
   "id": "ae91464a-2072-46d6-bcb0-98c7bedfaba5",
   "metadata": {},
   "source": [
    "#### Running physo"
   ]
  },
  {
   "attachments": {},
   "cell_type": "markdown",
   "id": "c2d6e5c8-4660-4dbc-ac39-b4f6513f1a54",
   "metadata": {},
   "source": [
    "Given the units input variables $(x_0,..., x_n)$ (here $(z, v)$ ), the root variable $y$ (here $E$) as well as free and fixed constants, you can run an SR task to recover $f$ via:"
   ]
  },
  {
   "attachments": {},
   "cell_type": "markdown",
   "id": "8fa6c2a3-4784-44bf-a498-8ddf49f652ab",
   "metadata": {},
   "source": [
    "(Allowing the use of a fixed constant $1$ of dimension $L^{0}, T^{0}, M^{0}$ (ie dimensionless) and free constants $m$ of dimension $L^{0}, T^{0}, M^{1}$ and $g$ of dimension $L^{1}, T^{-2}, M^{0}$.)\n",
    "\n",
    "It should be noted that here the units vector are of size 3 (eg: `[1, 0, 0]`) as in this example the variables have units dependent on length, time and mass only.\n",
    "However, units vectors can be of any size $\\leq 7$ as long as it is consistent across X, y and constants, allowing the user to express any units (dependent on length, time, mass, temperature, electric current, amount of light, or amount of matter). \n",
    "In addition, dimensional analysis can be performed regardless of the order in which units are given, allowing the user to use any convention ([length, mass, time] or [mass, time, length] etc.) as long as it is consistent across X,y and constants."
   ]
  },
  {
   "cell_type": "code",
   "execution_count": 4,
   "id": "1eb11a27-b4ee-4c80-af95-b0b6b0e1d49f",
   "metadata": {
    "scrolled": true,
    "tags": []
   },
   "outputs": [
    {
     "name": "stdout",
     "output_type": "stream",
     "text": [
      "SR task started...\n",
      "Parallel mode is not available because physo is being ran from a notebook on a system returning multiprocessing.get_start_method() = 'spawn' (typically MACs/Windows). Run physo from the terminal to use parallel mode.\n",
      "Parallel mode is not available because physo is being ran from a notebook on a system returning multiprocessing.get_start_method() = 'spawn' (typically MACs/Windows). Run physo from the terminal to use parallel mode.\n",
      "\n",
      "default get_start_method : spawn\n",
      "Running from notebook : True\n",
      "Is CUDA available : False\n",
      "Total nb. of CPUs :  10\n",
      "Recommended config {'parallel_mode': False, 'n_cpus': 10}\n",
      "Parallel mode is not available because physo is being ran from a notebook on a system returning multiprocessing.get_start_method() = 'spawn' (typically MACs/Windows). Run physo from the terminal to use parallel mode.\n",
      "Parallel mode is not available because physo is being ran from a notebook on a system returning multiprocessing.get_start_method() = 'spawn' (typically MACs/Windows). Run physo from the terminal to use parallel mode.\n",
      "\n",
      "default get_start_method : spawn\n",
      "Running from notebook : True\n",
      "Is CUDA available : False\n",
      "Total nb. of CPUs :  10\n",
      "Recommended config {'parallel_mode': False, 'n_cpus': 10}\n"
     ]
    },
    {
     "name": "stderr",
     "output_type": "stream",
     "text": [
      "/Users/youriran/software/PhySO/physo/physym/execute.py:190: UserWarning: Parallel mode is not available because physo is being ran from a notebook on a system returning multiprocessing.get_start_method() = 'spawn' (typically MACs/Windows). Run physo from the terminal to use parallel mode.\n",
      "  warnings.warn(msg)\n",
      "/Users/youriran/software/PhySO/physo/physym/reward.py:228: UserWarning: Parallel mode is not available on this system, switching to non parallel mode.\n",
      "  warnings.warn(\"Parallel mode is not available on this system, switching to non parallel mode.\")\n"
     ]
    },
    {
     "ename": "KeyError",
     "evalue": "<function SquashedNRMSE at 0x162a88540>",
     "output_type": "error",
     "traceback": [
      "\u001b[0;31m---------------------------------------------------------------------------\u001b[0m",
      "\u001b[0;31mKeyError\u001b[0m                                  Traceback (most recent call last)",
      "Cell \u001b[0;32mIn[4], line 3\u001b[0m\n\u001b[1;32m      1\u001b[0m \u001b[39m# Running SR task\u001b[39;00m\n\u001b[1;32m      2\u001b[0m config \u001b[39m=\u001b[39m \u001b[39m\"\u001b[39m\u001b[39m\"\u001b[39m\n\u001b[0;32m----> 3\u001b[0m expression, logs \u001b[39m=\u001b[39m physo\u001b[39m.\u001b[39;49mSR(X, y,\n\u001b[1;32m      4\u001b[0m                             \u001b[39m# Giving names of variables (for display purposes)\u001b[39;49;00m\n\u001b[1;32m      5\u001b[0m                             X_names \u001b[39m=\u001b[39;49m [ \u001b[39m\"\u001b[39;49m\u001b[39mz\u001b[39;49m\u001b[39m\"\u001b[39;49m       , \u001b[39m\"\u001b[39;49m\u001b[39mv\u001b[39;49m\u001b[39m\"\u001b[39;49m        ],\n\u001b[1;32m      6\u001b[0m                             \u001b[39m# Giving units of input variables\u001b[39;49;00m\n\u001b[1;32m      7\u001b[0m                             X_units \u001b[39m=\u001b[39;49m [ [\u001b[39m1\u001b[39;49m, \u001b[39m0\u001b[39;49m, \u001b[39m0\u001b[39;49m] , [\u001b[39m1\u001b[39;49m, \u001b[39m-\u001b[39;49m\u001b[39m1\u001b[39;49m, \u001b[39m0\u001b[39;49m] ],\n\u001b[1;32m      8\u001b[0m                             \u001b[39m# Giving name of root variable (for display purposes)\u001b[39;49;00m\n\u001b[1;32m      9\u001b[0m                             y_name  \u001b[39m=\u001b[39;49m \u001b[39m\"\u001b[39;49m\u001b[39mE\u001b[39;49m\u001b[39m\"\u001b[39;49m,\n\u001b[1;32m     10\u001b[0m                             \u001b[39m# Giving units of the root variable\u001b[39;49;00m\n\u001b[1;32m     11\u001b[0m                             y_units \u001b[39m=\u001b[39;49m [\u001b[39m2\u001b[39;49m, \u001b[39m-\u001b[39;49m\u001b[39m2\u001b[39;49m, \u001b[39m1\u001b[39;49m],\n\u001b[1;32m     12\u001b[0m                             \u001b[39m# Fixed constants\u001b[39;49;00m\n\u001b[1;32m     13\u001b[0m                             fixed_consts       \u001b[39m=\u001b[39;49m [ \u001b[39m1.\u001b[39;49m      ],\n\u001b[1;32m     14\u001b[0m                             \u001b[39m# Units of fixed constants\u001b[39;49;00m\n\u001b[1;32m     15\u001b[0m                             fixed_consts_units \u001b[39m=\u001b[39;49m [ [\u001b[39m0\u001b[39;49m,\u001b[39m0\u001b[39;49m,\u001b[39m0\u001b[39;49m] ],\n\u001b[1;32m     16\u001b[0m                             \u001b[39m# Free constants names (for display purposes)\u001b[39;49;00m\n\u001b[1;32m     17\u001b[0m                             free_consts_names \u001b[39m=\u001b[39;49m [ \u001b[39m\"\u001b[39;49m\u001b[39mm\u001b[39;49m\u001b[39m\"\u001b[39;49m       , \u001b[39m\"\u001b[39;49m\u001b[39mg\u001b[39;49m\u001b[39m\"\u001b[39;49m        ],\n\u001b[1;32m     18\u001b[0m                             \u001b[39m# Units offFree constants\u001b[39;49;00m\n\u001b[1;32m     19\u001b[0m                             free_consts_units \u001b[39m=\u001b[39;49m [ [\u001b[39m0\u001b[39;49m, \u001b[39m0\u001b[39;49m, \u001b[39m1\u001b[39;49m] , [\u001b[39m1\u001b[39;49m, \u001b[39m-\u001b[39;49m\u001b[39m2\u001b[39;49m, \u001b[39m0\u001b[39;49m] ],\n\u001b[1;32m     20\u001b[0m                             \u001b[39m# Run config\u001b[39;49;00m\n\u001b[1;32m     21\u001b[0m                             run_config \u001b[39m=\u001b[39;49m physo\u001b[39m.\u001b[39;49mconfig\u001b[39m.\u001b[39;49mconfig0\u001b[39m.\u001b[39;49mconfig0,\n\u001b[1;32m     22\u001b[0m \n\u001b[1;32m     23\u001b[0m )\n",
      "File \u001b[0;32m~/software/PhySO/physo/task/sr.py:265\u001b[0m, in \u001b[0;36mSR\u001b[0;34m(X, y, X_units, X_names, y_units, y_name, fixed_consts, fixed_consts_units, free_consts_units, free_consts_names, op_names, stop_reward, epochs, run_config, get_run_logger, get_run_visualiser)\u001b[0m\n\u001b[1;32m    262\u001b[0m \u001b[39m# ------------------------------- RUN -------------------------------\u001b[39;00m\n\u001b[1;32m    264\u001b[0m \u001b[39mprint\u001b[39m(\u001b[39m\"\u001b[39m\u001b[39mSR task started...\u001b[39m\u001b[39m\"\u001b[39m)\n\u001b[0;32m--> 265\u001b[0m rewards, candidates \u001b[39m=\u001b[39m fit(X,\n\u001b[1;32m    266\u001b[0m                           y,\n\u001b[1;32m    267\u001b[0m                           run_config,\n\u001b[1;32m    268\u001b[0m                           stop_reward\u001b[39m=\u001b[39;49mstop_reward,\n\u001b[1;32m    269\u001b[0m                           stop_after_n_epochs\u001b[39m=\u001b[39;49mdefault_stop_after_n_epochs)\n\u001b[1;32m    271\u001b[0m \u001b[39m# ------------------------------- RESULTS -------------------------------\u001b[39;00m\n\u001b[1;32m    273\u001b[0m pareto_front_complexities, pareto_front_programs, pareto_front_r, pareto_front_rmse \u001b[39m=\u001b[39m run_logger\u001b[39m.\u001b[39mget_pareto_front()\n",
      "File \u001b[0;32m~/software/PhySO/physo/task/fit.py:64\u001b[0m, in \u001b[0;36mfit\u001b[0;34m(X, y, run_config, candidate_wrapper, stop_reward, stop_after_n_epochs)\u001b[0m\n\u001b[1;32m     61\u001b[0m cell \u001b[39m=\u001b[39m cell_reseter()\n\u001b[1;32m     62\u001b[0m optimizer \u001b[39m=\u001b[39m run_config[\u001b[39m\"\u001b[39m\u001b[39mlearning_config\u001b[39m\u001b[39m\"\u001b[39m][\u001b[39m\"\u001b[39m\u001b[39mget_optimizer\u001b[39m\u001b[39m\"\u001b[39m](cell)\n\u001b[0;32m---> 64\u001b[0m hall_of_fame_R, hall_of_fame \u001b[39m=\u001b[39m learn\u001b[39m.\u001b[39;49mlearner(\n\u001b[1;32m     65\u001b[0m     model\u001b[39m=\u001b[39;49mcell,\n\u001b[1;32m     66\u001b[0m     optimizer\u001b[39m=\u001b[39;49moptimizer,\n\u001b[1;32m     67\u001b[0m     n_epochs\u001b[39m=\u001b[39;49mrun_config[\u001b[39m\"\u001b[39;49m\u001b[39mlearning_config\u001b[39;49m\u001b[39m\"\u001b[39;49m][\u001b[39m\"\u001b[39;49m\u001b[39mn_epochs\u001b[39;49m\u001b[39m\"\u001b[39;49m],\n\u001b[1;32m     68\u001b[0m     batch_reseter\u001b[39m=\u001b[39;49mbatch_reseter,\n\u001b[1;32m     69\u001b[0m     risk_factor\u001b[39m=\u001b[39;49mrun_config[\u001b[39m\"\u001b[39;49m\u001b[39mlearning_config\u001b[39;49m\u001b[39m\"\u001b[39;49m][\u001b[39m\"\u001b[39;49m\u001b[39mrisk_factor\u001b[39;49m\u001b[39m\"\u001b[39;49m],\n\u001b[1;32m     70\u001b[0m     gamma_decay\u001b[39m=\u001b[39;49mrun_config[\u001b[39m\"\u001b[39;49m\u001b[39mlearning_config\u001b[39;49m\u001b[39m\"\u001b[39;49m][\u001b[39m\"\u001b[39;49m\u001b[39mgamma_decay\u001b[39;49m\u001b[39m\"\u001b[39;49m],\n\u001b[1;32m     71\u001b[0m     entropy_weight\u001b[39m=\u001b[39;49mrun_config[\u001b[39m\"\u001b[39;49m\u001b[39mlearning_config\u001b[39;49m\u001b[39m\"\u001b[39;49m][\u001b[39m\"\u001b[39;49m\u001b[39mentropy_weight\u001b[39;49m\u001b[39m\"\u001b[39;49m],\n\u001b[1;32m     72\u001b[0m     verbose\u001b[39m=\u001b[39;49m\u001b[39mFalse\u001b[39;49;00m,\n\u001b[1;32m     73\u001b[0m     stop_reward\u001b[39m=\u001b[39;49mstop_reward,\n\u001b[1;32m     74\u001b[0m     stop_after_n_epochs\u001b[39m=\u001b[39;49mstop_after_n_epochs,\n\u001b[1;32m     75\u001b[0m     run_logger\u001b[39m=\u001b[39;49mrun_config[\u001b[39m\"\u001b[39;49m\u001b[39mrun_logger\u001b[39;49m\u001b[39m\"\u001b[39;49m],\n\u001b[1;32m     76\u001b[0m     run_visualiser\u001b[39m=\u001b[39;49mrun_config[\u001b[39m\"\u001b[39;49m\u001b[39mrun_visualiser\u001b[39;49m\u001b[39m\"\u001b[39;49m],\n\u001b[1;32m     77\u001b[0m )\n\u001b[1;32m     79\u001b[0m \u001b[39mreturn\u001b[39;00m hall_of_fame_R, hall_of_fame\n",
      "File \u001b[0;32m~/software/PhySO/physo/learn/learn.py:165\u001b[0m, in \u001b[0;36mlearner\u001b[0;34m(model, optimizer, n_epochs, batch_reseter, risk_factor, gamma_decay, entropy_weight, verbose, stop_reward, stop_after_n_epochs, run_logger, run_visualiser)\u001b[0m\n\u001b[1;32m    158\u001b[0m actions_array \u001b[39m=\u001b[39m actions\u001b[39m.\u001b[39mdetach()\u001b[39m.\u001b[39mcpu()\u001b[39m.\u001b[39mnumpy()  \u001b[39m# (max_time_step, batch_size,)\u001b[39;00m\n\u001b[1;32m    160\u001b[0m \u001b[39m# -------------------------------------------------\u001b[39;00m\n\u001b[1;32m    161\u001b[0m \u001b[39m# -------------------- REWARD ---------------------\u001b[39;00m\n\u001b[1;32m    162\u001b[0m \u001b[39m# -------------------------------------------------\u001b[39;00m\n\u001b[1;32m    163\u001b[0m \n\u001b[1;32m    164\u001b[0m \u001b[39m# (embedding output)\u001b[39;00m\n\u001b[0;32m--> 165\u001b[0m R \u001b[39m=\u001b[39m batch\u001b[39m.\u001b[39;49mget_rewards()\n\u001b[1;32m    167\u001b[0m \u001b[39m# -------------------------------------------------\u001b[39;00m\n\u001b[1;32m    168\u001b[0m \u001b[39m# ---------------- BEST CANDIDATES ----------------\u001b[39;00m\n\u001b[1;32m    169\u001b[0m \u001b[39m# -------------------------------------------------\u001b[39;00m\n\u001b[0;32m   (...)\u001b[0m\n\u001b[1;32m    172\u001b[0m \u001b[39m# copy to avoid negative stride problem\u001b[39;00m\n\u001b[1;32m    173\u001b[0m \u001b[39m# https://discuss.pytorch.org/t/torch-from-numpy-not-support-negative-strides/3663/7\u001b[39;00m\n\u001b[1;32m    174\u001b[0m keep \u001b[39m=\u001b[39m R\u001b[39m.\u001b[39margsort()[::\u001b[39m-\u001b[39m\u001b[39m1\u001b[39m][\u001b[39m0\u001b[39m:n_keep]\u001b[39m.\u001b[39mcopy()  \u001b[39m# (n_keep,)\u001b[39;00m\n",
      "File \u001b[0;32m~/software/PhySO/physo/physym/batch.py:439\u001b[0m, in \u001b[0;36mBatch.get_rewards\u001b[0;34m(self)\u001b[0m\n\u001b[1;32m    431\u001b[0m \u001b[39mdef\u001b[39;00m \u001b[39mget_rewards\u001b[39m(\u001b[39mself\u001b[39m):\n\u001b[1;32m    432\u001b[0m \u001b[39m    \u001b[39m\u001b[39m\"\"\"\u001b[39;00m\n\u001b[1;32m    433\u001b[0m \u001b[39m    Computes rewards of programs contained in batch.\u001b[39;00m\n\u001b[1;32m    434\u001b[0m \u001b[39m    Returns\u001b[39;00m\n\u001b[0;32m   (...)\u001b[0m\n\u001b[1;32m    437\u001b[0m \u001b[39m        Rewards of programs.\u001b[39;00m\n\u001b[1;32m    438\u001b[0m \u001b[39m    \"\"\"\u001b[39;00m\n\u001b[0;32m--> 439\u001b[0m     rewards \u001b[39m=\u001b[39m \u001b[39mself\u001b[39;49m\u001b[39m.\u001b[39;49mrewards_computer(\n\u001b[1;32m    440\u001b[0m         programs\u001b[39m=\u001b[39;49m\u001b[39mself\u001b[39;49m\u001b[39m.\u001b[39;49mprograms,\n\u001b[1;32m    441\u001b[0m         X\u001b[39m=\u001b[39;49m\u001b[39mself\u001b[39;49m\u001b[39m.\u001b[39;49mdataset\u001b[39m.\u001b[39;49mX,\n\u001b[1;32m    442\u001b[0m         y_target\u001b[39m=\u001b[39;49m\u001b[39mself\u001b[39;49m\u001b[39m.\u001b[39;49mdataset\u001b[39m.\u001b[39;49my_target,\n\u001b[1;32m    443\u001b[0m         free_const_opti_args\u001b[39m=\u001b[39;49m\u001b[39mself\u001b[39;49m\u001b[39m.\u001b[39;49mfree_const_opti_args,\n\u001b[1;32m    444\u001b[0m     )\n\u001b[1;32m    445\u001b[0m     \u001b[39mreturn\u001b[39;00m rewards\n",
      "File \u001b[0;32m~/software/PhySO/physo/physym/reward.py:233\u001b[0m, in \u001b[0;36mmake_RewardsComputer.<locals>.rewards_computer\u001b[0;34m(programs, X, y_target, free_const_opti_args)\u001b[0m\n\u001b[1;32m    232\u001b[0m \u001b[39mdef\u001b[39;00m \u001b[39mrewards_computer\u001b[39m(programs, X, y_target, free_const_opti_args):\n\u001b[0;32m--> 233\u001b[0m     R \u001b[39m=\u001b[39m RewardsComputer(\n\u001b[1;32m    234\u001b[0m         programs\u001b[39m=\u001b[39;49mprograms,\n\u001b[1;32m    235\u001b[0m         X\u001b[39m=\u001b[39;49mX,\n\u001b[1;32m    236\u001b[0m         y_target\u001b[39m=\u001b[39;49my_target,\n\u001b[1;32m    237\u001b[0m         free_const_opti_args\u001b[39m=\u001b[39;49mfree_const_opti_args,\n\u001b[1;32m    238\u001b[0m         \u001b[39m# Frozen args\u001b[39;49;00m\n\u001b[1;32m    239\u001b[0m         reward_function\u001b[39m=\u001b[39;49mreward_function,\n\u001b[1;32m    240\u001b[0m         zero_out_unphysical\u001b[39m=\u001b[39;49mzero_out_unphysical,\n\u001b[1;32m    241\u001b[0m         zero_out_duplicates\u001b[39m=\u001b[39;49mzero_out_duplicates,\n\u001b[1;32m    242\u001b[0m         keep_lowest_complexity_duplicate\u001b[39m=\u001b[39;49mkeep_lowest_complexity_duplicate,\n\u001b[1;32m    243\u001b[0m         \u001b[39m# Parallel related\u001b[39;49;00m\n\u001b[1;32m    244\u001b[0m         parallel_mode\u001b[39m=\u001b[39;49mparallel_mode,\n\u001b[1;32m    245\u001b[0m         n_cpus\u001b[39m=\u001b[39;49mn_cpus,\n\u001b[1;32m    246\u001b[0m     )\n\u001b[1;32m    247\u001b[0m     \u001b[39mreturn\u001b[39;00m R\n",
      "File \u001b[0;32m~/software/PhySO/physo/physym/reward.py:95\u001b[0m, in \u001b[0;36mRewardsComputer\u001b[0;34m(programs, X, y_target, free_const_opti_args, reward_function, zero_out_unphysical, zero_out_duplicates, keep_lowest_complexity_duplicate, parallel_mode, n_cpus, progress_bar)\u001b[0m\n\u001b[1;32m     92\u001b[0m     mask_valid \u001b[39m=\u001b[39m (mask_valid \u001b[39m&\u001b[39m mask_is_physical)  \u001b[39m# (batch_size,)\u001b[39;00m\n\u001b[1;32m     94\u001b[0m \u001b[39m# ----- REWARDS COMPUTER -----\u001b[39;00m\n\u001b[0;32m---> 95\u001b[0m reward_function \u001b[39m=\u001b[39m REWARDS[reward_function]\n\u001b[1;32m     97\u001b[0m \u001b[39m# ----- DUPLICATES -----\u001b[39;00m\n\u001b[1;32m     98\u001b[0m \u001b[39mif\u001b[39;00m zero_out_duplicates:\n\u001b[1;32m     99\u001b[0m     \u001b[39m# Compute rewards (even if programs have non-optimized free consts) to serve as a unique numeric identifier of\u001b[39;00m\n\u001b[1;32m    100\u001b[0m     \u001b[39m# functional forms (programs having equivalent forms will have the same reward).\u001b[39;00m\n\u001b[1;32m    101\u001b[0m \n\u001b[1;32m    102\u001b[0m     \u001b[39m# Only use parallel mode if enabled in function param and in USE_PARALLEL_EXE flag.\u001b[39;00m\n\u001b[1;32m    103\u001b[0m     \u001b[39m# This way users can use flags to specifically enable or disable parallel exe and/or const opti.\u001b[39;00m\n",
      "\u001b[0;31mKeyError\u001b[0m: <function SquashedNRMSE at 0x162a88540>"
     ]
    }
   ],
   "source": [
    "# Running SR task\n",
    "config = os.path.join(phsyo.PhySO_dir, \"config/config0.json\")\n",
    "expression, logs = physo.SR(X, y,\n",
    "                            # Giving names of variables (for display purposes)\n",
    "                            X_names = [ \"z\"       , \"v\"        ],\n",
    "                            # Giving units of input variables\n",
    "                            X_units = [ [1, 0, 0] , [1, -1, 0] ],\n",
    "                            # Giving name of root variable (for display purposes)\n",
    "                            y_name  = \"E\",\n",
    "                            # Giving units of the root variable\n",
    "                            y_units = [2, -2, 1],\n",
    "                            # Fixed constants\n",
    "                            fixed_consts       = [ 1.      ],\n",
    "                            # Units of fixed constants\n",
    "                            fixed_consts_units = [ [0,0,0] ],\n",
    "                            # Free constants names (for display purposes)\n",
    "                            free_consts_names = [ \"m\"       , \"g\"        ],\n",
    "                            # Units offFree constants\n",
    "                            free_consts_units = [ [0, 0, 1] , [1, -2, 0] ],\n",
    "                            # Run config\n",
    "                            run_config = config,\n",
    "\n",
    ")"
   ]
  },
  {
   "attachments": {},
   "cell_type": "markdown",
   "id": "74eb7187-179c-4424-b8f0-d60ac8014648",
   "metadata": {},
   "source": [
    "### Inspecting the best expression found"
   ]
  },
  {
   "cell_type": "code",
   "execution_count": null,
   "id": "695cf419-d2bf-417a-90e8-37d53774a4c7",
   "metadata": {},
   "outputs": [],
   "source": [
    "# Inspecting the best expression found\n",
    "# In ascii\n",
    "print(\"\\nIn ascii:\")\n",
    "print(expression.get_infix_pretty(do_simplify=True))\n",
    "# In latex\n",
    "print(\"\\nIn latex\")\n",
    "print(expression.get_infix_latex(do_simplify=True))\n",
    "# Free constants values\n",
    "print(\"\\nFree constants values\")\n",
    "print(expression.free_const_values.cpu().detach().numpy())"
   ]
  },
  {
   "attachments": {},
   "cell_type": "markdown",
   "id": "8c04aade-7a43-4f0d-9617-39f903668266",
   "metadata": {},
   "source": [
    "### Inspecting pareto front expressions"
   ]
  },
  {
   "cell_type": "code",
   "execution_count": null,
   "id": "d60ae712-a0da-426d-8137-11d3b631c21e",
   "metadata": {
    "tags": []
   },
   "outputs": [],
   "source": [
    "\n",
    "# Inspecting pareto front expressions\n",
    "pareto_front_complexities, pareto_front_expressions, pareto_front_r, pareto_front_rmse = logs.get_pareto_front()\n",
    "for i, prog in enumerate(pareto_front_expressions):\n",
    "    # Showing expression\n",
    "    print(prog.get_infix_pretty(do_simplify=True))\n",
    "    # Showing free constant\n",
    "    free_consts = prog.free_const_values.detach().cpu().numpy()\n",
    "    for j in range (len(free_consts)):\n",
    "        print(\"%s = %f\"%(prog.library.free_const_names[j], free_consts[j]))\n",
    "    # Showing RMSE\n",
    "    print(\"RMSE = {:e}\".format(pareto_front_rmse[i]))\n",
    "    print(\"-------------\\n\")"
   ]
  },
  {
   "cell_type": "code",
   "execution_count": null,
   "id": "d1c3342a-ef12-46a1-ab21-c1960268a748",
   "metadata": {},
   "outputs": [],
   "source": []
  }
 ],
 "metadata": {
  "kernelspec": {
   "display_name": "Python 3 (ipykernel)",
   "language": "python",
   "name": "python3"
  },
  "language_info": {
   "codemirror_mode": {
    "name": "ipython",
    "version": 3
   },
   "file_extension": ".py",
   "mimetype": "text/x-python",
   "name": "python",
   "nbconvert_exporter": "python",
   "pygments_lexer": "ipython3",
   "version": "3.11.0"
  }
 },
 "nbformat": 4,
 "nbformat_minor": 5
}
